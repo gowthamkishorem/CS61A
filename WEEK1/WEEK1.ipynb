{
 "cells": [
  {
   "cell_type": "code",
   "execution_count": 10,
   "metadata": {},
   "outputs": [
    {
     "name": "stdout",
     "output_type": "stream",
     "text": [
      "1408\n",
      "2 -3\n",
      "3.7 1 1\n"
     ]
    }
   ],
   "source": [
    "#Lecture1 #Expressions\n",
    "from operator import add,mul,sub,mod\n",
    "print(add(mul(45,mul(10,3)),add(50,add(2,6))))#nestedexpression\n",
    "print(max(1,2),min(-3,6))\n",
    "print(add(.7,3),sub(4,3),mod(5,2))"
   ]
  },
  {
   "cell_type": "code",
   "execution_count": 26,
   "metadata": {},
   "outputs": [
    {
     "name": "stdout",
     "output_type": "stream",
     "text": [
      "980637\n",
      "['A', \"MIDSUMMER-NIGHT'S\", 'DREAM', 'Now', ',', 'fair', 'Hippolyta', ',', 'our', 'nuptial', 'hour', 'Draws', 'on', 'apace', ':', 'four', 'happy', 'days', 'bring', 'in', 'Another', 'moon', ';', 'but', 'O'] 23272 81827 \n",
      "33505\n",
      "zwaggered\n",
      "tragical-comical-historical-pastoral\n",
      "ward\n",
      "{'rail', 'leek', 'door', 'pots', 'lees', 'pooh', 'drab', 'gnat', 'draw', 'teem', 'snip', 'deem', 'leer', 'star', 'spot', 'smug', 'laid', 'garb', 'tops', 'gums', 'tang', 'dial', 'port', 'liar', 'evil', 'trow', 'tips', 'flow', 'seel', 'pins', 'rats', 'spin', 'reed', 'spit', 'room', 'brag', 'mood', 'bats', 'noon', 'deer', 'sees', 'elle', 'ecce', 'trap', 'wort', 'hoop', 'poop', 'stab', 'nips', 'bard', 'reel', 'deed', 'trop', 'doom', 'esse', 'swam', 'meed', 'pool', 'meet', 'rood', 'ward', 'stop', 'live', 'wolf', 'keel', 'part', 'maws', 'loop', 'peep', 'moor'}\n"
     ]
    }
   ],
   "source": [
    "#Lecture1 \n",
    "shakes = open('shakespeare.txt')\n",
    "text = shakes.read().split()\n",
    "print(len(text))\n",
    "print(text[:25],text.count('the'),text.count(','),end = \" \\n\")\n",
    "\n",
    "\n",
    "words = set(text)\n",
    "print(len(words))\n",
    "print(max(words))\n",
    "print(max(words, key=len))\n",
    "\n",
    "\n",
    "#imp #w[::-1]\n",
    "print('draw'[::-1])\n",
    "print({w for w in words if w[::-1] in words and len(w) == 4})\n"
   ]
  },
  {
   "cell_type": "code",
   "execution_count": 29,
   "metadata": {},
   "outputs": [
    {
     "name": "stdout",
     "output_type": "stream",
     "text": [
      "3\n"
     ]
    },
    {
     "data": {
      "text/plain": [
       "28.274333882308138"
      ]
     },
     "execution_count": 29,
     "metadata": {},
     "output_type": "execute_result"
    }
   ],
   "source": [
    "#Lec2\n",
    "from math import pi\n",
    "\n",
    "def area():\n",
    "    rad = int(input())\n",
    "    return pi * rad * rad\n",
    "area()"
   ]
  },
  {
   "cell_type": "code",
   "execution_count": null,
   "metadata": {},
   "outputs": [],
   "source": []
  }
 ],
 "metadata": {
  "kernelspec": {
   "display_name": "Python 3",
   "language": "python",
   "name": "python3"
  },
  "language_info": {
   "codemirror_mode": {
    "name": "ipython",
    "version": 3
   },
   "file_extension": ".py",
   "mimetype": "text/x-python",
   "name": "python",
   "nbconvert_exporter": "python",
   "pygments_lexer": "ipython3",
   "version": "3.8.2"
  }
 },
 "nbformat": 4,
 "nbformat_minor": 4
}
